{
 "cells": [
  {
   "attachments": {},
   "cell_type": "markdown",
   "metadata": {},
   "source": [
    "1) Vytvořte pole 3x4 typu bool se všemi prvky True.\n",
    "2) Vytvořte matici 5x5 kde jediné nenulová prvky jsou [1, 2, 3, 4] pod hlavní diagonálou (nápověda - podívejte se na nápovědu funkce diagflat)."
   ]
  },
  {
   "cell_type": "code",
   "execution_count": 29,
   "metadata": {},
   "outputs": [
    {
     "name": "stdout",
     "output_type": "stream",
     "text": [
      "[[ True  True  True  True]\n",
      " [ True  True  True  True]\n",
      " [ True  True  True  True]]\n"
     ]
    }
   ],
   "source": [
    "import numpy as np\n",
    "\n",
    "A = np.ones(shape=(3,4), dtype=bool)\n",
    "print(A)"
   ]
  },
  {
   "cell_type": "code",
   "execution_count": 52,
   "metadata": {},
   "outputs": [
    {
     "name": "stdout",
     "output_type": "stream",
     "text": [
      "[[0 0 0 0 0]\n",
      " [1 0 0 0 0]\n",
      " [0 2 0 0 0]\n",
      " [0 0 3 0 0]\n",
      " [0 0 0 4 0]]\n"
     ]
    }
   ],
   "source": [
    "B = np.diagflat([1, 2, 3, 4], -1)\n",
    "print(B)"
   ]
  },
  {
   "attachments": {},
   "cell_type": "markdown",
   "metadata": {},
   "source": [
    "Z pole 8x8 samých nul vyvořte pomocí řezů co nejelegantnějším způsobem 8x8 matici, která vypadá jako šachovnice."
   ]
  },
  {
   "cell_type": "code",
   "execution_count": 77,
   "metadata": {},
   "outputs": [
    {
     "name": "stdout",
     "output_type": "stream",
     "text": [
      "[[1. 0. 1. 0. 1. 0. 1. 0.]\n",
      " [0. 1. 0. 1. 0. 1. 0. 1.]\n",
      " [1. 0. 1. 0. 1. 0. 1. 0.]\n",
      " [0. 1. 0. 1. 0. 1. 0. 1.]\n",
      " [1. 0. 1. 0. 1. 0. 1. 0.]\n",
      " [0. 1. 0. 1. 0. 1. 0. 1.]\n",
      " [1. 0. 1. 0. 1. 0. 1. 0.]\n",
      " [0. 1. 0. 1. 0. 1. 0. 1.]]\n"
     ]
    }
   ],
   "source": [
    "C = np.zeros((8,8))\n",
    "for i in range(len(C)):\n",
    "    if(i%2 == 0):C[i][0:8:2]= 1\n",
    "    if(i%2 == 1):C[i][1:9:2]= 1\n",
    "print(C)\n"
   ]
  },
  {
   "attachments": {},
   "cell_type": "markdown",
   "metadata": {},
   "source": [
    "4) Pomocí np.random.randint vytvořte vektor dvouciferných kladných celých čísel. Poté pomocí indexu typu masky nahraďte liché hodnoty jejich opačnou hodnotou. Např. [11, 20, 42, 33] -> [-11, 20, 42, -33]."
   ]
  },
  {
   "cell_type": "code",
   "execution_count": 89,
   "metadata": {},
   "outputs": [
    {
     "name": "stdout",
     "output_type": "stream",
     "text": [
      "[53 31 39 23 68]\n",
      "[-53 -31 -39 -23  68]\n"
     ]
    }
   ],
   "source": [
    "D = np.random.randint(10,99,(5))\n",
    "print(D)\n",
    "for i in range(len(D)):\n",
    "    if(D[i]%2 == 1): D[i] *= -1\n",
    "print(D)"
   ]
  },
  {
   "attachments": {},
   "cell_type": "markdown",
   "metadata": {},
   "source": [
    "5)"
   ]
  },
  {
   "cell_type": "code",
   "execution_count": 93,
   "metadata": {},
   "outputs": [
    {
     "name": "stdout",
     "output_type": "stream",
     "text": [
      "[[0.02682811 0.14633227 0.09524339]\n",
      " [0.0242823  0.08002354 0.63079964]\n",
      " [0.45251012 0.26280428 0.30670666]]\n",
      "-----------------------------\n",
      "[[0.02682811 0.14633227 0.09524339]\n",
      " [0.0242823  0.08002354 0.63079964]\n",
      " [0.45251012 0.26280428 0.30670666]]\n",
      "-----------------------------\n",
      "[[0. 0. 0.]\n",
      " [0. 0. 0.]\n",
      " [0. 0. 0.]]\n"
     ]
    }
   ],
   "source": [
    "A = np.random.rand(3,3)\n",
    "B = np.random.rand(3,3)\n",
    "C = np.transpose(A*B)\n",
    "D = np.transpose(A)* np.transpose(B)\n",
    "print(C)\n",
    "print(\"-----------------------------\")\n",
    "print(D)\n",
    "print(\"-----------------------------\")\n",
    "print(C-D)"
   ]
  },
  {
   "attachments": {},
   "cell_type": "markdown",
   "metadata": {},
   "source": [
    "Pro náhodné 1D vektory vypočítejte dyadický součin n*v "
   ]
  },
  {
   "cell_type": "code",
   "execution_count": 38,
   "metadata": {},
   "outputs": [
    {
     "name": "stdout",
     "output_type": "stream",
     "text": [
      "[[0. 0. 0. 0. 0. 0. 0. 0.]\n",
      " [0. 0. 0. 0. 0. 0. 0. 0.]\n",
      " [0. 0. 0. 0. 0. 0. 0. 0.]\n",
      " [0. 0. 0. 0. 0. 0. 0. 0.]\n",
      " [0. 0. 0. 0. 0. 0. 0. 0.]\n",
      " [0. 0. 0. 0. 0. 0. 0. 0.]\n",
      " [0. 0. 0. 0. 0. 0. 0. 0.]\n",
      " [0. 0. 0. 0. 0. 0. 0. 0.]]\n"
     ]
    }
   ],
   "source": [
    "import numpy as np\n",
    "\n",
    "n = np.random.random(8)\n",
    "v = np.random.random(8)\n",
    "out = np.zeros([8,8])\n",
    "for i in range(len(n)):\n",
    "    for j in range(len(v)):\n",
    "        out[i][j] = n[i] * v[j]\n",
    "\n",
    "print((out - (np.outer(n,v)))) # vypočtený dekadický součin - np.outer(n,v) by se měl = 0\n"
   ]
  },
  {
   "attachments": {},
   "cell_type": "markdown",
   "metadata": {},
   "source": [
    "7) Vytvořte šachovnicovou matici pomocí tile."
   ]
  },
  {
   "cell_type": "code",
   "execution_count": 40,
   "metadata": {},
   "outputs": [
    {
     "name": "stdout",
     "output_type": "stream",
     "text": [
      "[[1 0 1 0 1 0 1 0]\n",
      " [0 1 0 1 0 1 0 1]\n",
      " [1 0 1 0 1 0 1 0]\n",
      " [0 1 0 1 0 1 0 1]\n",
      " [1 0 1 0 1 0 1 0]\n",
      " [0 1 0 1 0 1 0 1]\n",
      " [1 0 1 0 1 0 1 0]\n",
      " [0 1 0 1 0 1 0 1]]\n"
     ]
    }
   ],
   "source": [
    "n = 4 #velikost šachovnice, 4 == šachovnice\n",
    "a = np.array([[1, 0], [0, 1]])\n",
    "print(np.tile(a, (n, n)))"
   ]
  },
  {
   "attachments": {},
   "cell_type": "markdown",
   "metadata": {},
   "source": [
    "Domácí Úkol"
   ]
  },
  {
   "cell_type": "code",
   "execution_count": 41,
   "metadata": {},
   "outputs": [
    {
     "ename": "SyntaxError",
     "evalue": "incomplete input (2324417572.py, line 4)",
     "output_type": "error",
     "traceback": [
      "\u001b[1;36m  Cell \u001b[1;32mIn[41], line 4\u001b[1;36m\u001b[0m\n\u001b[1;33m    def integer_spiral(n):\u001b[0m\n\u001b[1;37m                          ^\u001b[0m\n\u001b[1;31mSyntaxError\u001b[0m\u001b[1;31m:\u001b[0m incomplete input\n"
     ]
    }
   ],
   "source": [
    "import numpy as np\n",
    "import matplotlib as plt\n",
    "\n",
    "def integer_spiral(n):\n",
    "    A = np.zeros([n+2,n+2])\n",
    "    pos_rows = n//2 +1\n",
    "    pos_cols = n//2 +1\n",
    "    i = 1\n",
    "\n",
    "    A[pos_rows, pos_cols] = i\n",
    "    i += 1\n",
    "    pos_rows -= 1\n",
    "\n",
    "    while(i <= n**2):\n",
    "        A[pos_rows, pos_cols] = i\n",
    "        i+=1\n",
    "        if(A[pos_row - 1, pos_col] != 0 and A[pos_row, pos_col + 1] == 0):\n",
    "            pos_cols += 1\n",
    "        elif(A[pos_row, pos_col - 1] != 0):\n",
    "            pos_row -= 1\n",
    "        elif(A[pos_row + 1, pos_col] != 0):\n",
    "            pos_col -= 1\n",
    "        else:\n",
    "            pos_row += 1\n",
    "\n",
    "    return A[1:-1, 1:-1]\n",
    "\n",
    "A = integer_spiral(7)\n",
    "print(A)\n"
   ]
  }
 ],
 "metadata": {
  "kernelspec": {
   "display_name": "Python 3",
   "language": "python",
   "name": "python3"
  },
  "language_info": {
   "codemirror_mode": {
    "name": "ipython",
    "version": 3
   },
   "file_extension": ".py",
   "mimetype": "text/x-python",
   "name": "python",
   "nbconvert_exporter": "python",
   "pygments_lexer": "ipython3",
   "version": "3.10.10"
  },
  "orig_nbformat": 4
 },
 "nbformat": 4,
 "nbformat_minor": 2
}
