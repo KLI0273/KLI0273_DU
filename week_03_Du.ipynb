{
 "cells": [
  {
   "attachments": {},
   "cell_type": "markdown",
   "metadata": {},
   "source": [
    "\n",
    "Prostory jmen a obor platnosti proměnných:\n"
   ]
  },
  {
   "cell_type": "code",
   "execution_count": 3,
   "metadata": {},
   "outputs": [
    {
     "name": "stdout",
     "output_type": "stream",
     "text": [
      "[2, 3, 5, 7, 11, 13, 17, 19, 23, 29]\n"
     ]
    }
   ],
   "source": [
    "\n",
    "\n",
    "def prvocisla(n, prim = []):\n",
    "    if(len(prim) != 0): N = max(prim)\n",
    "    else: N = 2\n",
    "    while 1:\n",
    "        prvocislo_otaznik = True\n",
    "        for i in range(2, N):\n",
    "            if(N % i == 0):\n",
    "                prvocislo_otaznik = False\n",
    "                break\n",
    "        \n",
    "        if prvocislo_otaznik:\n",
    "            prim.append(N)\n",
    "            \n",
    "        N += 1\n",
    "        if(len(prim) == n): return prim\n",
    "\n",
    "prim = prvocisla(10)\n",
    "print(prim)"
   ]
  },
  {
   "attachments": {},
   "cell_type": "markdown",
   "metadata": {},
   "source": [
    "Jupyter Magic"
   ]
  },
  {
   "attachments": {},
   "cell_type": "markdown",
   "metadata": {},
   "source": [
    "Kopírování\n"
   ]
  },
  {
   "cell_type": "code",
   "execution_count": null,
   "metadata": {},
   "outputs": [],
   "source": [
    "%%writefile week_03_jupyter_magic.py\n",
    "\n",
    "import math as ma\n",
    "\n",
    "def odmocnina(a, n): #a = cislo #* n = pocet opakovani cyklu\n",
    "    if(a == 0):\n",
    "        return 0\n",
    "    x=((a/a)+a)/2  \n",
    "    for i in range(n):\n",
    "        x = ((a/x)+x)/2 \n",
    "    return x      \n",
    "\n",
    "def aproximace_pi(N):\n",
    "    b = 1\n",
    "    for i in range(N):\n",
    "        v = odmocnina(1**2 - (b/2)**2, 100)\n",
    "        S = 6*(b*(v/2))*(2**i)\n",
    "        b = odmocnina((b/2)**2 + (1-v)**2,100) #max 97, pro vetsi pocet n-uhelniku je potreba vice iteraci\n",
    "        if(b == 0): return 'error'\n",
    "    return S\n",
    "\n",
    "def aproximace_pi_newton(n):\n",
    "    a = 1/16\n",
    "    sum = 0\n",
    "    for i in range(1,n+1):\n",
    "        sum += (a/(2*i+1))\n",
    "        a = a*((2*(i+1)-3)/(2*(i+1)*4))\n",
    "\n",
    "    m = odmocnina(3,1000)\n",
    "    q = 12*(-(m/8) + 1/2 - sum)\n",
    "    return q\n"
   ]
  },
  {
   "attachments": {},
   "cell_type": "markdown",
   "metadata": {},
   "source": [
    "%time %timeit %%time a %%timeit"
   ]
  },
  {
   "cell_type": "code",
   "execution_count": 1,
   "metadata": {},
   "outputs": [
    {
     "name": "stdout",
     "output_type": "stream",
     "text": [
      "CPU times: total: 0 ns\n",
      "Wall time: 998 µs\n",
      "CPU times: total: 0 ns\n",
      "Wall time: 0 ns\n",
      "977 µs ± 24.2 µs per loop (mean ± std. dev. of 7 runs, 1,000 loops each)\n",
      "72.2 µs ± 1.6 µs per loop (mean ± std. dev. of 7 runs, 10,000 loops each)\n"
     ]
    },
    {
     "name": "stderr",
     "output_type": "stream",
     "text": [
      "UsageError: Line magic function `%%time` not found.\n"
     ]
    }
   ],
   "source": [
    "\n",
    "import math as ma\n",
    "\n",
    "def odmocnina(a, n): #a = cislo #* n = pocet opakovani cyklu\n",
    "    if(a == 0):\n",
    "        return 0\n",
    "    x=((a/a)+a)/2  \n",
    "    for i in range(n):\n",
    "        x = ((a/x)+x)/2 \n",
    "    return x      \n",
    "\n",
    "def aproximace_pi(N):\n",
    "    b = 1\n",
    "    for i in range(N):\n",
    "        v = odmocnina(1**2 - (b/2)**2, 100)\n",
    "        S = 6*(b*(v/2))*(2**i)\n",
    "        b = odmocnina((b/2)**2 + (1-v)**2,100) #max 97, pro vetsi pocet n-uhelniku je potreba vice iteraci\n",
    "        if(b == 0): return 'error'\n",
    "    return S\n",
    "\n",
    "def aproximace_pi_newton(n):\n",
    "    a = 1/16\n",
    "    sum = 0\n",
    "    for i in range(1,n+1):\n",
    "        sum += (a/(2*i+1))\n",
    "        a = a*((2*(i+1)-3)/(2*(i+1)*4))\n",
    "\n",
    "    m = odmocnina(3,1000)\n",
    "    q = 12*(-(m/8) + 1/2 - sum)\n",
    "    return q\n",
    "\n",
    "%time aproximace_pi(100)\n",
    "%time aproximace_pi_newton(100)\n",
    "%timeit aproximace_pi(100)\n",
    "%timeit aproximace_pi_newton(100)\n",
    "\n",
    "%%time\n",
    "aproximace_pi(100)\n",
    "aproximace_pi_newton(100)\n",
    "\n",
    "%%timeit\n",
    "aproximace_pi(100)\n",
    "aproximace_pi_newton(100)\n",
    "\n"
   ]
  },
  {
   "attachments": {},
   "cell_type": "markdown",
   "metadata": {},
   "source": [
    "Řetězce\n"
   ]
  },
  {
   "cell_type": "code",
   "execution_count": null,
   "metadata": {},
   "outputs": [],
   "source": []
  }
 ],
 "metadata": {
  "kernelspec": {
   "display_name": "Python 3",
   "language": "python",
   "name": "python3"
  },
  "language_info": {
   "codemirror_mode": {
    "name": "ipython",
    "version": 3
   },
   "file_extension": ".py",
   "mimetype": "text/x-python",
   "name": "python",
   "nbconvert_exporter": "python",
   "pygments_lexer": "ipython3",
   "version": "3.10.10"
  },
  "orig_nbformat": 4
 },
 "nbformat": 4,
 "nbformat_minor": 2
}
