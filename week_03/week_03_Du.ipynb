{
 "cells": [
  {
   "attachments": {},
   "cell_type": "markdown",
   "metadata": {},
   "source": [
    "\n",
    "Prostory jmen a obor platnosti proměnných:\n"
   ]
  },
  {
   "cell_type": "code",
   "execution_count": null,
   "metadata": {},
   "outputs": [
    {
     "name": "stdout",
     "output_type": "stream",
     "text": [
      "[2, 3, 5, 7, 11, 13, 17, 19, 23, 29]\n",
      "[2, 3, 5, 7, 11, 13, 17, 19, 23, 29, 29, 31]\n",
      "[2, 3, 5, 7, 11, 13, 17, 19, 23, 29, 29, 31, 31, 37, 41]\n"
     ]
    }
   ],
   "source": [
    "\n",
    "def prvocisla(n, prim = []):\n",
    "    if(len(prim) != 0): N = max(prim)\n",
    "    else: N = 2\n",
    "    while 1:\n",
    "        prvocislo_otaznik = True\n",
    "        for i in range(2, N):\n",
    "            if(N % i == 0):\n",
    "                prvocislo_otaznik = False\n",
    "                break\n",
    "        \n",
    "        if prvocislo_otaznik:\n",
    "            prim.append(N)\n",
    "            \n",
    "        N += 1\n",
    "        if(len(prim) == n): return prim\n",
    "\n",
    "prim = prvocisla(10)\n",
    "print(prim)"
   ]
  },
  {
   "attachments": {},
   "cell_type": "markdown",
   "metadata": {},
   "source": [
    "Jupyter Magic"
   ]
  },
  {
   "attachments": {},
   "cell_type": "markdown",
   "metadata": {},
   "source": [
    "Kopírování\n"
   ]
  },
  {
   "cell_type": "code",
   "execution_count": null,
   "metadata": {},
   "outputs": [],
   "source": [
    "%%writefile week_03_jupyter_magic.py\n",
    "\n",
    "import math as ma\n",
    "\n",
    "def odmocnina(a, n): #a = cislo #* n = pocet opakovani cyklu\n",
    "    if(a == 0):\n",
    "        return 0\n",
    "    x=((a/a)+a)/2  \n",
    "    for i in range(n):\n",
    "        x = ((a/x)+x)/2 \n",
    "    return x      \n",
    "\n",
    "def aproximace_pi(N):\n",
    "    b = 1\n",
    "    for i in range(N):\n",
    "        v = odmocnina(1**2 - (b/2)**2, 100)\n",
    "        S = 6*(b*(v/2))*(2**i)\n",
    "        b = odmocnina((b/2)**2 + (1-v)**2,100) #max 97, pro vetsi pocet n-uhelniku je potreba vice iteraci\n",
    "        if(b == 0): return 'error'\n",
    "    return S\n",
    "\n",
    "def aproximace_pi_newton(n):\n",
    "    a = 1/16\n",
    "    sum = 0\n",
    "    for i in range(1,n+1):\n",
    "        sum += (a/(2*i+1))\n",
    "        a = a*((2*(i+1)-3)/(2*(i+1)*4))\n",
    "\n",
    "    m = odmocnina(3,1000)\n",
    "    q = 12*(-(m/8) + 1/2 - sum)\n",
    "    return q\n"
   ]
  },
  {
   "attachments": {},
   "cell_type": "markdown",
   "metadata": {},
   "source": [
    "%time %timeit %%time a %%timeit"
   ]
  },
  {
   "cell_type": "code",
   "execution_count": 1,
   "metadata": {},
   "outputs": [
    {
     "name": "stdout",
     "output_type": "stream",
     "text": [
      "CPU times: total: 0 ns\n",
      "Wall time: 998 µs\n",
      "CPU times: total: 0 ns\n",
      "Wall time: 0 ns\n",
      "977 µs ± 24.2 µs per loop (mean ± std. dev. of 7 runs, 1,000 loops each)\n",
      "72.2 µs ± 1.6 µs per loop (mean ± std. dev. of 7 runs, 10,000 loops each)\n"
     ]
    },
    {
     "name": "stderr",
     "output_type": "stream",
     "text": [
      "UsageError: Line magic function `%%time` not found.\n"
     ]
    }
   ],
   "source": [
    "\n",
    "import math as ma\n",
    "\n",
    "def odmocnina(a, n): #a = cislo #* n = pocet opakovani cyklu\n",
    "    if(a == 0):\n",
    "        return 0\n",
    "    x=((a/a)+a)/2  \n",
    "    for i in range(n):\n",
    "        x = ((a/x)+x)/2 \n",
    "    return x      \n",
    "\n",
    "def aproximace_pi(N):\n",
    "    b = 1\n",
    "    for i in range(N):\n",
    "        v = odmocnina(1**2 - (b/2)**2, 100)\n",
    "        S = 6*(b*(v/2))*(2**i)\n",
    "        b = odmocnina((b/2)**2 + (1-v)**2,100) #max 97, pro vetsi pocet n-uhelniku je potreba vice iteraci\n",
    "        if(b == 0): return 'error'\n",
    "    return S\n",
    "\n",
    "def aproximace_pi_newton(n):\n",
    "    a = 1/16\n",
    "    sum = 0\n",
    "    for i in range(1,n+1):\n",
    "        sum += (a/(2*i+1))\n",
    "        a = a*((2*(i+1)-3)/(2*(i+1)*4))\n",
    "\n",
    "    m = odmocnina(3,1000)\n",
    "    q = 12*(-(m/8) + 1/2 - sum)\n",
    "    return q\n",
    "\n",
    "%time aproximace_pi(100)\n",
    "%time aproximace_pi_newton(100)\n",
    "%timeit aproximace_pi(100)\n",
    "%timeit aproximace_pi_newton(100)\n",
    "\n",
    "%%time\n",
    "aproximace_pi(100)\n",
    "aproximace_pi_newton(100)\n",
    "\n",
    "%%timeit\n",
    "aproximace_pi(100)\n",
    "aproximace_pi_newton(100)\n",
    "\n"
   ]
  },
  {
   "attachments": {},
   "cell_type": "markdown",
   "metadata": {},
   "source": [
    "Řetězce\n"
   ]
  },
  {
   "cell_type": "code",
   "execution_count": 10,
   "metadata": {},
   "outputs": [
    {
     "name": "stdout",
     "output_type": "stream",
     "text": [
      "Cyklus 1, Hodnota pi -->> aprox_pi: 2.59808, aprox_pi_newton: 3.15192.\n",
      "Cyklus 2, Hodnota pi -->> aprox_pi: 3.00000, aprox_pi_newton: 3.14255.\n",
      "Cyklus 3, Hodnota pi -->> aprox_pi: 3.10583, aprox_pi_newton: 3.14171.\n",
      "Cyklus 4, Hodnota pi -->> aprox_pi: 3.13263, aprox_pi_newton: 3.14161.\n",
      "Cyklus 5, Hodnota pi -->> aprox_pi: 3.13935, aprox_pi_newton: 3.14160.\n",
      "Cyklus 6, Hodnota pi -->> aprox_pi: 3.14103, aprox_pi_newton: 3.14159.\n",
      "Cyklus 7, Hodnota pi -->> aprox_pi: 3.14145, aprox_pi_newton: 3.14159.\n",
      "Cyklus 8, Hodnota pi -->> aprox_pi: 3.14156, aprox_pi_newton: 3.14159.\n",
      "Cyklus 9, Hodnota pi -->> aprox_pi: 3.14158, aprox_pi_newton: 3.14159.\n"
     ]
    }
   ],
   "source": [
    "import numpy as np\n",
    "\n",
    "def aproximace_pi(N):\n",
    "    b = 1\n",
    "    for i in range(N):\n",
    "        v = ma.sqrt(1**2 - (b/2)**2)\n",
    "        S = 6*(b*(v/2))*(2**i)\n",
    "        b = ma.sqrt((b/2)**2 + (1-v)**2)\n",
    "        if(b == 0): return 'error'\n",
    "    return S\n",
    "\n",
    "def aproximace_pi_newton(n):\n",
    "    a = 1/16\n",
    "    sum = 0\n",
    "    for i in range(1,n+1):\n",
    "        sum += (a/(2*i+1))\n",
    "        a = a*((2*(i+1)-3)/(2*(i+1)*4))\n",
    "\n",
    "    m = ma.sqrt(3)\n",
    "    q = 12*(-(m/8) + 1/2 - sum)\n",
    "    return q\n",
    "\n",
    "np.set_printoptions(precision=5)\n",
    "for i in range(1,10):\n",
    "    ap = f\"{aproximace_pi(i):.5f}\"\n",
    "    apn = f\"{aproximace_pi_newton(i):.5f}\"\n",
    "    print(\"Cyklus {}, Hodnota pi -->> aprox_pi: {}, aprox_pi_newton: {}.\".format(i,ap,apn))\n"
   ]
  },
  {
   "attachments": {},
   "cell_type": "markdown",
   "metadata": {},
   "source": [
    "Generátory a Iterátory"
   ]
  },
  {
   "cell_type": "code",
   "execution_count": 14,
   "metadata": {},
   "outputs": [
    {
     "name": "stdout",
     "output_type": "stream",
     "text": [
      "[0, 1, 1, 2, 3, 5, 8, 13, 21, 34]\n"
     ]
    }
   ],
   "source": [
    "\n",
    "def gen_fibb():\n",
    "    i1 = 0\n",
    "    i2 = 1\n",
    "    yield i1\n",
    "    yield i2\n",
    "    while True:\n",
    "        f = i1 + i2\n",
    "        yield f\n",
    "        i1 = i2\n",
    "        i2 = f  \n",
    "fib = []\n",
    "gfib = gen_fibb()\n",
    "for i in range(10):\n",
    "    fib.append(next(gfib))\n",
    "print(fib)\n",
    "\n"
   ]
  },
  {
   "attachments": {},
   "cell_type": "markdown",
   "metadata": {},
   "source": [
    "List compregension\n"
   ]
  },
  {
   "cell_type": "code",
   "execution_count": 18,
   "metadata": {},
   "outputs": [
    {
     "name": "stdout",
     "output_type": "stream",
     "text": [
      "[1, 2, 3, 4, 5, 6, 7, 8, 9, 10]\n",
      "[1, 4, 9, 16, 25, 36, 49, 64, 81, 100]\n",
      "[2, 3, 5, 7, 11, 13, 17, 19, 23, 29, 31, 37, 41, 43, 47, 53, 59, 61, 67, 71, 73, 79, 83, 89, 97]\n"
     ]
    }
   ],
   "source": [
    "def gen_prim():\n",
    "    N = 2\n",
    "    while 1:\n",
    "        prvocislo_otaznik = True\n",
    "        for i in range(2, N):\n",
    "            if(N % i == 0):\n",
    "                prvocislo_otaznik = False\n",
    "                break\n",
    "        \n",
    "        if prvocislo_otaznik:\n",
    "            yield N\n",
    "            \n",
    "        N += 1\n",
    "    \n",
    "\n",
    "\n",
    "cisla = list(range(1,11))\n",
    "cisla_02 = ([i**2 for i in range(1,11)])\n",
    "\n",
    "primes = [num for num in range(2, 101) if all(num % i != 0 for i in range(2, num))]\n",
    "\n",
    "#gr_pr = gen_prim()\n",
    "#prim = ([next(gr_pr) for i in range(101)])\n",
    "\n",
    "print(cisla)\n",
    "print(cisla_02)\n",
    "print(primes)\n",
    "\n"
   ]
  },
  {
   "attachments": {},
   "cell_type": "markdown",
   "metadata": {},
   "source": [
    "Práce se soubory"
   ]
  },
  {
   "cell_type": "code",
   "execution_count": 20,
   "metadata": {},
   "outputs": [
    {
     "name": "stdout",
     "output_type": "stream",
     "text": [
      "Overwriting week_03_text_soubory.txt\n"
     ]
    }
   ],
   "source": [
    "%%writefile week_03_text_soubory.txt\n",
    "Chameleons are known for their unique ability to change the color\n",
    "and pattern of their skin to blend in with their surroundings and communicate\n",
    "with other chameleons. Their eyes can move independently,\n",
    "sticky tongues can be up to twice the length of their body,\n",
    "allowing them to capture prey with great accuracy.\n",
    "\n",
    "soubor = open(\"week_03_text_soubory.txt\", \"r\")\n",
    "output = open(\"week_03_text_output.txt\", \"w\")\n",
    "\n",
    "soubor = open(\"week_03_text_soubory.txt\", \"r\")\n",
    "with open(\"week_03_text_output.txt\", \"w\") as out:\n",
    "    for i in range(1,11):\n",
    "        out.write(f\"cislo -> {i}, mocnina -> {i*i}, mocnina mocniny -> {(i*i)**2}\")\n",
    "\n",
    "soubor.close()"
   ]
  },
  {
   "cell_type": "code",
   "execution_count": 44,
   "metadata": {},
   "outputs": [],
   "source": [
    "soubor = open(\"week_03_text_soubory.txt\", \"r\")\n",
    "output = open(\"week_03_text_output.txt\", \"w\")\n",
    "\n",
    "line = soubor.readlines()\n",
    "output.write(line[2].strip())\n",
    "\n",
    "soubor.close()\n",
    "output.close()"
   ]
  },
  {
   "cell_type": "code",
   "execution_count": 46,
   "metadata": {},
   "outputs": [],
   "source": [
    "with open(\"week_03_text_output.txt\", \"w\") as out:\n",
    "    for i in range(1,11):\n",
    "        out.write(f\"cislo -> {i}, mocnina -> {i*i}, mocnina**2 -> {(i*i)**2} \\n\")"
   ]
  },
  {
   "attachments": {},
   "cell_type": "markdown",
   "metadata": {},
   "source": [
    "UKOL"
   ]
  },
  {
   "cell_type": "code",
   "execution_count": 4,
   "metadata": {},
   "outputs": [
    {
     "name": "stdout",
     "output_type": "stream",
     "text": [
      "(sin((x+cos((x*x))))+1)\n",
      "((cos((x+cos((x*x))))*(1+(sin((x*x))*(((1*x)+(x*1))*-1))))+0)\n",
      "-----------------------------------------------------------\n",
      "((((x)^2+(2*x))+1)+(2*(x)^2))\n",
      "((((2*((x)^1*1))+((0*x)+(2*1)))+0)+((0*(x)^2)+(2*(2*((x)^1*1)))))\n",
      "-----------------------------------------------------------\n",
      "(((x)^2+(2*x))+exp(x))\n",
      "(((2*((x)^1*1))+((0*x)+(2*1)))+(exp(x)*1))\n"
     ]
    }
   ],
   "source": [
    "class Operator:\n",
    "    def __init__(self):\n",
    "        pass\n",
    "    \n",
    "    def __str__(self):\n",
    "        return type(self).__name__\n",
    "    \n",
    "    def __repr__(self):\n",
    "        return self.__str__()\n",
    "    \n",
    "    def diff(self):\n",
    "        pass\n",
    "    \n",
    "    def __add__(self, other):\n",
    "        return Addition(self, other)\n",
    "\n",
    "    def __sub__(self, other):\n",
    "        return Addition(self, Multiplication(cst(-1), other))\n",
    "    \n",
    "    def __mul__(self, other):\n",
    "        return Multiplication(self, other)\n",
    "    \n",
    "class BinaryOperator(Operator):\n",
    "    def __init__(self, levy_argument, pravy_argument):\n",
    "        self.levy_argument = levy_argument\n",
    "        self.pravy_argument = pravy_argument\n",
    "\n",
    "    def __str__(self):\n",
    "        return \"(\" + str(self.levy_argument) + \" \" + type(self).__name__ + \" \" + str(self.pravy_argument) + \")\"\n",
    "        \n",
    "class UnaryOperator(Operator):\n",
    "    def __init__(self, argument):\n",
    "        self.argument = argument\n",
    "    \n",
    "    def __str__(self):\n",
    "        return type(self).__name__ + \"(\" + str(self.argument) + \")\"\n",
    "        \n",
    "class Addition(BinaryOperator):\n",
    "    def __str__(self):\n",
    "        return \"(\" + str(self.levy_argument) +  \"+\" + str(self.pravy_argument) + \")\"\n",
    "    def diff(self):\n",
    "        return self.levy_argument.diff() + self.pravy_argument.diff()\n",
    "    \n",
    "class Multiplication(BinaryOperator):\n",
    "    def __str__(self):\n",
    "        return \"(\" + str(self.levy_argument) + \"*\" + str(self.pravy_argument) + \")\"\n",
    "    def diff(self):\n",
    "        return self.levy_argument.diff() * self.pravy_argument + self.levy_argument * self.pravy_argument.diff() \n",
    "\n",
    "    \n",
    "class cst(UnaryOperator):\n",
    "    def __init__(self, value):\n",
    "        self.value = value\n",
    "    def __str__(self):\n",
    "        return str(self.value)\n",
    "    def diff(self):\n",
    "        return cst(0)\n",
    "    \n",
    "class identity(UnaryOperator):\n",
    "    def __init__(self):\n",
    "        pass\n",
    "    def __str__(self):\n",
    "        return \"x\"\n",
    "    def diff(self):\n",
    "        return cst(1)\n",
    "    \n",
    "class mocnina(UnaryOperator):\n",
    "    def __init__(self, argument, exponent):\n",
    "        self.argument = argument\n",
    "        self.exponent = exponent\n",
    "\n",
    "    def __str__(self):\n",
    "        return \"(\" + str(self.argument) + \")^\" + str(self.exponent)\n",
    "    \n",
    "    def diff(self):\n",
    "        return Multiplication(self.exponent, mocnina(self.argument, self.exponent - 1) * self.argument.diff())\n",
    "    \n",
    "class sin(UnaryOperator):\n",
    "    def __init__(self,argument):\n",
    "        self.argument = argument\n",
    "\n",
    "    def __str__(self):\n",
    "        return \"sin(\" + str(self.argument) + \")\"\n",
    "    \n",
    "    def diff(self):\n",
    "        return cos(self.argument) * self.argument.diff()\n",
    "\n",
    "class cos(UnaryOperator):\n",
    "    def __init__(self, argument):\n",
    "        self.argument = argument\n",
    "\n",
    "    def __str__(self):\n",
    "        return \"cos(\" + str(self.argument) + \")\"\n",
    "    \n",
    "    def diff(self):\n",
    "        return Multiplication(sin(self.argument), self.argument.diff() * cst(-1))\n",
    "\n",
    "class exp(UnaryOperator):\n",
    "    def __init__(self, argument):\n",
    "        self.argument = argument\n",
    "\n",
    "    def __str__(self):\n",
    "        return \"exp(\" + str(self.argument) + \")\"\n",
    "\n",
    "    def diff(self):\n",
    "        return Multiplication(exp(self.argument), self.argument.diff())\n",
    "    \n",
    "class ln(UnaryOperator):\n",
    "    def __init__(self, argument):\n",
    "        self.argument = argument\n",
    "\n",
    "    def __str__(self):\n",
    "        return \"ln(\" + str(self.argument) + \")\"\n",
    "\n",
    "    def diff(self):\n",
    "        return Multiplication(frc(identity(), self.argument), self.argument.diff())\n",
    "\n",
    "class frc(UnaryOperator):\n",
    "    def __init__(self, argument):\n",
    "        self.argument = argument\n",
    "    \n",
    "    def __str__(self):\n",
    "        return \"1/(\" + str(self.argument) + \")\"\n",
    "    \n",
    "    def diff(self):\n",
    "        return Multiplication(cst(-1), frc(mocnina(self.argument, 2)) * self.argument.diff())\n",
    "    \n",
    "x = identity()\n",
    "f1 = sin(x + cos(x*x)) + cst(1)\n",
    "print(f1)\n",
    "print(f1.diff())\n",
    "\n",
    "print(\"-----------------------------------------------------------\")\n",
    "\n",
    "f2 = mocnina(x,2) + cst(2)*x + cst(1) + cst(2)*mocnina(x,2)\n",
    "print(f2)\n",
    "print(f2.diff())\n",
    "\n",
    "print(\"-----------------------------------------------------------\")\n",
    "\n",
    "f3 = mocnina(x,2) + cst(2)*x + exp(x)\n",
    "print(f3)\n",
    "print(f3.diff())"
   ]
  },
  {
   "attachments": {},
   "cell_type": "markdown",
   "metadata": {},
   "source": [
    "Bounus - jsem se snažil implementovat však neúspěšně, v week_03.py je kód s pokusem iplmentace \"symplify()\" části s symplify jsou viditelně odděleny ####"
   ]
  }
 ],
 "metadata": {
  "kernelspec": {
   "display_name": "Python 3",
   "language": "python",
   "name": "python3"
  },
  "language_info": {
   "codemirror_mode": {
    "name": "ipython",
    "version": 3
   },
   "file_extension": ".py",
   "mimetype": "text/x-python",
   "name": "python",
   "nbconvert_exporter": "python",
   "pygments_lexer": "ipython3",
   "version": "3.10.10"
  },
  "orig_nbformat": 4
 },
 "nbformat": 4,
 "nbformat_minor": 2
}
